{
 "cells": [
  {
   "cell_type": "code",
   "execution_count": 1,
   "metadata": {},
   "outputs": [
    {
     "name": "stderr",
     "output_type": "stream",
     "text": [
      "/home/ubuntu/miniconda3/envs/arena/lib/python3.10/site-packages/tqdm/auto.py:22: TqdmWarning: IProgress not found. Please update jupyter and ipywidgets. See https://ipywidgets.readthedocs.io/en/stable/user_install.html\n",
      "  from .autonotebook import tqdm as notebook_tqdm\n"
     ]
    }
   ],
   "source": [
    "import torch as t\n",
    "import pytorch_lightning as pl\n",
    "import wandb\n",
    "\n",
    "from torch import nn\n",
    "from torch.utils.data import Dataset, DataLoader\n",
    "from torch.optim.lr_scheduler import OneCycleLR\n",
    "from fancy_einsum import einsum\n",
    "from dataclasses import dataclass\n",
    "from tqdm.notebook import tqdm_notebook\n",
    "from einops import rearrange, reduce, repeat\n",
    "from IPython.display import display\n",
    "from typing import Callable\n",
    "from pytorch_lightning.loggers import WandbLogger\n",
    "from pytorch_lightning.callbacks import TQDMProgressBar\n",
    "\n",
    "import sys \n",
    "sys.path.append('../common')"
   ]
  },
  {
   "cell_type": "code",
   "execution_count": 2,
   "metadata": {},
   "outputs": [
    {
     "data": {
      "text/plain": [
       "'3.10.8 (main, Nov  4 2022, 13:48:29) [GCC 11.2.0]'"
      ]
     },
     "execution_count": 2,
     "metadata": {},
     "output_type": "execute_result"
    }
   ],
   "source": [
    "sys.version"
   ]
  },
  {
   "cell_type": "code",
   "execution_count": 3,
   "metadata": {},
   "outputs": [],
   "source": [
    "import general_modules as cm\n",
    "import transformer_modules as tm\n",
    "from transformer_modules import TransformerConfig\n",
    "from nlp_modules import WordsDataset, WordsTokenizer\n",
    "import sample_methods as s\n"
   ]
  },
  {
   "cell_type": "code",
   "execution_count": 4,
   "metadata": {},
   "outputs": [],
   "source": [
    "config = TransformerConfig(\n",
    "    num_layers=12, \n",
    "    num_heads=8, \n",
    "    vocab_size=34543, \n",
    "    hidden_size=256,\n",
    "    max_seq_len=128,\n",
    "    dropout=0.1)"
   ]
  },
  {
   "cell_type": "code",
   "execution_count": 5,
   "metadata": {},
   "outputs": [],
   "source": [
    "tokenizer = WordsTokenizer(config.max_seq_len)\n",
    "words_ds = WordsDataset(seq_len=config.max_seq_len, filename='100-0.txt', tokenizer=tokenizer, truncate=1.0)\n",
    "trainloader = DataLoader(words_ds, batch_size=256, shuffle=True, num_workers=8)"
   ]
  },
  {
   "cell_type": "code",
   "execution_count": 6,
   "metadata": {},
   "outputs": [],
   "source": [
    "class SHKTrainModule(pl.LightningModule):\n",
    "    def __init__(self, config):\n",
    "        super().__init__()\n",
    "        # Key parameters\n",
    "        self.save_hyperparameters(ignore=[\"model\", \"data\"])\n",
    "        self.model = tm.DecoderOnlyTransformer(config).train()\n",
    "\n",
    "        self.criterion = nn.CrossEntropyLoss()\n",
    "\n",
    "    def forward(self, x):\n",
    "        x = self.model(x)\n",
    "        return x\n",
    "\n",
    "    def evaluate(self, batch, stage=None):\n",
    "        x, y = batch\n",
    "        logits = self(x)\n",
    "        logits = rearrange(logits, 'B S V -> (B S) V')\n",
    "        y = rearrange(y, 'B S -> (B S)')\n",
    "        loss = self.criterion(logits, y)\n",
    "\n",
    "        '''\n",
    "        if stage:\n",
    "            self.log(f\"{stage}_loss\", loss, prog_bar=True)\n",
    "\n",
    "            # log prediction examples to wandb\n",
    "            \n",
    "            initial_text = \"turn down for what\"\n",
    "            text_output = s.sample_tokens(self.model, tokenizer, initial_text, max_tokens_generated=100, temperature=1.0, top_k=10)\n",
    "            \n",
    "            try:\n",
    "                self.logger.experiment.log({\"val_pred_examples\": [wandb.Image(x[0], caption=text_output)]})\n",
    "            except AttributeError:\n",
    "                pass\n",
    "        '''\n",
    "            \n",
    "\n",
    "    def training_step(self, batch, batch_idx):\n",
    "        x, y = batch\n",
    "        logits = self(x)\n",
    "        logits = rearrange(logits, 'B S V -> (B S) V')\n",
    "        y = rearrange(y, 'B S -> (B S)')\n",
    "\n",
    "        loss = self.criterion(logits, y)\n",
    "        self.log(\"train_loss\", loss)\n",
    "        return loss\n",
    "\n",
    "    def validation_step(self, batch, batch_idx):\n",
    "        self.evaluate(batch, \"val\")\n",
    "\n",
    "    def test_step(self, batch, batch_idx):\n",
    "        self.evaluate(batch, \"test\")\n",
    "\n",
    "    def configure_optimizers(self):\n",
    "        optimizer = t.optim.AdamW(\n",
    "            self.parameters()\n",
    "        )\n",
    "\n",
    "        return {\"optimizer\": optimizer}\n",
    "        # return optimizer"
   ]
  },
  {
   "cell_type": "code",
   "execution_count": 7,
   "metadata": {},
   "outputs": [],
   "source": [
    "pl_model = SHKTrainModule(config)"
   ]
  },
  {
   "cell_type": "code",
   "execution_count": 8,
   "metadata": {},
   "outputs": [
    {
     "name": "stderr",
     "output_type": "stream",
     "text": [
      "Failed to detect the name of this notebook, you can set it manually with the WANDB_NOTEBOOK_NAME environment variable to enable code saving.\n",
      "\u001b[34m\u001b[1mwandb\u001b[0m: Currently logged in as: \u001b[33mcurt-tigges\u001b[0m (\u001b[33marena-ldn\u001b[0m). Use \u001b[1m`wandb login --relogin`\u001b[0m to force relogin\n"
     ]
    },
    {
     "data": {
      "text/html": [
       "Tracking run with wandb version 0.13.5"
      ],
      "text/plain": [
       "<IPython.core.display.HTML object>"
      ]
     },
     "metadata": {},
     "output_type": "display_data"
    },
    {
     "data": {
      "text/html": [
       "Run data is saved locally in <code>training/logs/wandb/run-20221117_175252-31lfhwj4</code>"
      ],
      "text/plain": [
       "<IPython.core.display.HTML object>"
      ]
     },
     "metadata": {},
     "output_type": "display_data"
    },
    {
     "data": {
      "text/html": [
       "Syncing run <strong><a href=\"https://wandb.ai/arena-ldn/shk-transformer/runs/31lfhwj4\" target=\"_blank\">helpful-planet-9</a></strong> to <a href=\"https://wandb.ai/arena-ldn/shk-transformer\" target=\"_blank\">Weights & Biases</a> (<a href=\"https://wandb.me/run\" target=\"_blank\">docs</a>)<br/>"
      ],
      "text/plain": [
       "<IPython.core.display.HTML object>"
      ]
     },
     "metadata": {},
     "output_type": "display_data"
    },
    {
     "name": "stderr",
     "output_type": "stream",
     "text": [
      "GPU available: True (cuda), used: True\n",
      "TPU available: False, using: 0 TPU cores\n",
      "IPU available: False, using: 0 IPUs\n",
      "HPU available: False, using: 0 HPUs\n",
      "/home/ubuntu/miniconda3/envs/arena/lib/python3.10/site-packages/pytorch_lightning/trainer/configuration_validator.py:108: PossibleUserWarning: You defined a `validation_step` but have no `val_dataloader`. Skipping val loop.\n",
      "  rank_zero_warn(\n",
      "LOCAL_RANK: 0 - CUDA_VISIBLE_DEVICES: [0]\n",
      "\n",
      "  | Name      | Type                   | Params\n",
      "-----------------------------------------------------\n",
      "0 | model     | DecoderOnlyTransformer | 18.3 M\n",
      "1 | criterion | CrossEntropyLoss       | 0     \n",
      "-----------------------------------------------------\n",
      "18.3 M    Trainable params\n",
      "0         Non-trainable params\n",
      "18.3 M    Total params\n",
      "73.283    Total estimated model params size (MB)\n"
     ]
    },
    {
     "name": "stdout",
     "output_type": "stream",
     "text": [
      "Epoch 0: 100%|██████████| 7765/7765 [2:56:36<00:00,  1.36s/it, loss=1.89, v_num=hwj4]  "
     ]
    },
    {
     "name": "stderr",
     "output_type": "stream",
     "text": [
      "`Trainer.fit` stopped: `max_epochs=1` reached.\n"
     ]
    },
    {
     "name": "stdout",
     "output_type": "stream",
     "text": [
      "Epoch 0: 100%|██████████| 7765/7765 [2:56:36<00:00,  1.36s/it, loss=1.89, v_num=hwj4]\n"
     ]
    }
   ],
   "source": [
    "MODEL_FILENAME = \"./w1d3_transformer_shakespeare.pt\"\n",
    "\n",
    "# Comment out if not using wandb\n",
    "wandb_logger = WandbLogger(\n",
    "    project=\"shk-transformer\", \n",
    "    save_dir=\"training/logs/\",\n",
    "    log_model=True)\n",
    "#wandb_logger.watch(pl_model, log=\"all\")\n",
    "\n",
    "trainer = pl.Trainer(\n",
    "    max_epochs=1,\n",
    "    accelerator='gpu', \n",
    "    devices=1,\n",
    "    logger=wandb_logger, # Comment out if not using wandb\n",
    "    default_root_dir=\"training/checkpoints/\",\n",
    "    callbacks=[TQDMProgressBar(refresh_rate=10)])\n",
    "trainer.fit(pl_model, train_dataloaders=trainloader)\n",
    "\n",
    "#print(f\"Saving model to: {MODEL_FILENAME}\")"
   ]
  },
  {
   "cell_type": "code",
   "execution_count": 11,
   "metadata": {},
   "outputs": [
    {
     "name": "stdout",
     "output_type": "stream",
     "text": [
      "turn down for what thou art;\n",
      "And for my good will I keep the throne\n",
      "Through yon hideous sea.\n",
      "\n",
      "KING RICHARD.\n",
      "Uncle, how wilt thou do for a man?\n",
      "Thy life is better than mine is in words;\n",
      "Thy tongue is better than thy life is dear,\n",
      "Therefore my heart, thy life for a\n"
     ]
    }
   ],
   "source": [
    "import sample_methods as s\n",
    "\n",
    "initial_text = \"turn down for what\"\n",
    "\n",
    "text_output = s.sample_tokens(pl_model, tokenizer, initial_text, max_tokens_generated=100, temperature=1.0, top_k=10)\n",
    "\n",
    "print(text_output)\n",
    "\n",
    "# turn down for what you do you think,\n",
    "# That take the last, of many, which is so much I\n",
    "# As this blows along than my life thou say’st, which makes thy hand,\n",
    "# Thou wilt be given, or more\n",
    "# Entitled in thy great world’s fresh blood will,\n",
    "# To answer th’ alluring countenance, beauty"
   ]
  },
  {
   "cell_type": "code",
   "execution_count": null,
   "metadata": {},
   "outputs": [],
   "source": []
  }
 ],
 "metadata": {
  "kernelspec": {
   "display_name": "Python 3.10.8",
   "language": "python",
   "name": "python3"
  },
  "language_info": {
   "codemirror_mode": {
    "name": "ipython",
    "version": 3
   },
   "file_extension": ".py",
   "mimetype": "text/x-python",
   "name": "python",
   "nbconvert_exporter": "python",
   "pygments_lexer": "ipython3",
   "version": "3.10.8"
  },
  "orig_nbformat": 4,
  "vscode": {
   "interpreter": {
    "hash": "c10433027f17cc99473094be91dce15a817800a3888d97f5aa33169660fcf533"
   }
  }
 },
 "nbformat": 4,
 "nbformat_minor": 2
}
