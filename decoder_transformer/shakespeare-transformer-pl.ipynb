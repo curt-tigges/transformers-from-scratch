{
 "cells": [
  {
   "cell_type": "code",
   "execution_count": 1,
   "metadata": {},
   "outputs": [],
   "source": [
    "import torch as t\n",
    "import pandas as pd\n",
    "import numpy as np\n",
    "import plotly.express as px\n",
    "import pytorch_lightning as pl\n",
    "import wandb\n",
    "\n",
    "from torch import nn\n",
    "from torch.utils.data import Dataset, DataLoader\n",
    "from torch.optim.lr_scheduler import OneCycleLR\n",
    "from fancy_einsum import einsum\n",
    "from dataclasses import dataclass\n",
    "from tqdm.notebook import tqdm_notebook\n",
    "from einops import rearrange, reduce, repeat\n",
    "from IPython.display import display\n",
    "from typing import Callable\n",
    "from pytorch_lightning.loggers import WandbLogger\n",
    "from pytorch_lightning.callbacks import TQDMProgressBar\n",
    "\n",
    "import sys \n",
    "sys.path.append('../common')"
   ]
  },
  {
   "cell_type": "code",
   "execution_count": 2,
   "metadata": {},
   "outputs": [],
   "source": [
    "import general_modules as cm\n",
    "import transformer_modules as tm\n",
    "from transformer_modules import TransformerConfig\n",
    "from nlp_modules import WordsDataset, WordsTokenizer\n"
   ]
  },
  {
   "cell_type": "code",
   "execution_count": 3,
   "metadata": {},
   "outputs": [],
   "source": [
    "config = TransformerConfig(\n",
    "    num_layers=12, \n",
    "    num_heads=8, \n",
    "    vocab_size=34543, \n",
    "    hidden_size=256,\n",
    "    max_seq_len=16,\n",
    "    dropout=0.1)"
   ]
  },
  {
   "cell_type": "code",
   "execution_count": 4,
   "metadata": {},
   "outputs": [],
   "source": [
    "tokenizer = WordsTokenizer(config.max_seq_len)\n",
    "words_ds = WordsDataset(seq_len=config.max_seq_len, filename='100-0.txt', tokenizer=tokenizer, truncate=0.01)\n",
    "trainloader = DataLoader(words_ds, batch_size=16, shuffle=True)"
   ]
  },
  {
   "cell_type": "code",
   "execution_count": 5,
   "metadata": {},
   "outputs": [],
   "source": [
    "class SHKTrainModule(pl.LightningModule):\n",
    "    def __init__(self, config):\n",
    "        super().__init__()\n",
    "        # Key parameters\n",
    "        self.save_hyperparameters(ignore=[\"model\", \"data\"])\n",
    "        self.model = tm.DecoderOnlyTransformer(config).train()\n",
    "\n",
    "        self.criterion = nn.CrossEntropyLoss()\n",
    "\n",
    "    def forward(self, x):\n",
    "        x = self.model(x)\n",
    "        return x\n",
    "\n",
    "    def evaluate(self, batch, stage=None):\n",
    "        x, y = batch\n",
    "        logits = self(x)\n",
    "        logits = rearrange(logits, 'B S V -> (B S) V')\n",
    "        y = rearrange(y, 'B S -> (B S)')\n",
    "        loss = self.criterion(logits, y)\n",
    "\n",
    "        if stage:\n",
    "            self.log(f\"{stage}_loss\", loss, prog_bar=True)\n",
    "\n",
    "            # log prediction examples to wandb\n",
    "            \"\"\"\n",
    "            pred = self.model(x)\n",
    "            pred_keys = pred[0].sigmoid().tolist()\n",
    "            pred_keys = [0 if p < self.hparams.thresh else 1 for p in pred_keys]\n",
    "\n",
    "\n",
    "            mapper = cc.COCOCategorizer()\n",
    "            pred_lbl = mapper.get_labels(pred_keys)\n",
    "            \n",
    "            try:\n",
    "                self.logger.experiment.log({\"val_pred_examples\": [wandb.Image(x[0], caption=pred_lbl)]})\n",
    "            except AttributeError:\n",
    "                pass\n",
    "            \"\"\"\n",
    "\n",
    "    def training_step(self, batch, batch_idx):\n",
    "        x, y = batch\n",
    "        logits = self(x)\n",
    "        logits = rearrange(logits, 'B S V -> (B S) V')\n",
    "        y = rearrange(y, 'B S -> (B S)')\n",
    "\n",
    "        loss = self.criterion(logits, y)\n",
    "        self.log(\"train_loss\", loss)\n",
    "        return loss\n",
    "\n",
    "    def validation_step(self, batch, batch_idx):\n",
    "        self.evaluate(batch, \"val\")\n",
    "\n",
    "    def test_step(self, batch, batch_idx):\n",
    "        self.evaluate(batch, \"test\")\n",
    "\n",
    "    def configure_optimizers(self):\n",
    "        optimizer = t.optim.AdamW(\n",
    "            self.parameters()\n",
    "        )\n",
    "\n",
    "        return {\"optimizer\": optimizer}\n",
    "        # return optimizer"
   ]
  },
  {
   "cell_type": "code",
   "execution_count": 6,
   "metadata": {},
   "outputs": [],
   "source": [
    "pl_model = SHKTrainModule(config)"
   ]
  },
  {
   "cell_type": "code",
   "execution_count": 7,
   "metadata": {},
   "outputs": [
    {
     "name": "stderr",
     "output_type": "stream",
     "text": [
      "Failed to detect the name of this notebook, you can set it manually with the WANDB_NOTEBOOK_NAME environment variable to enable code saving.\n",
      "\u001b[34m\u001b[1mwandb\u001b[0m: Currently logged in as: \u001b[33mcurt-tigges\u001b[0m (\u001b[33marena-ldn\u001b[0m). Use \u001b[1m`wandb login --relogin`\u001b[0m to force relogin\n",
      "\u001b[34m\u001b[1mwandb\u001b[0m: \u001b[33mWARNING\u001b[0m Path training/logs/wandb/ wasn't writable, using system temp directory.\n",
      "wandb: WARNING Path training/logs/wandb/ wasn't writable, using system temp directory\n"
     ]
    },
    {
     "data": {
      "text/html": [
       "Tracking run with wandb version 0.13.5"
      ],
      "text/plain": [
       "<IPython.core.display.HTML object>"
      ]
     },
     "metadata": {},
     "output_type": "display_data"
    },
    {
     "data": {
      "text/html": [
       "Run data is saved locally in <code>/tmp/wandb/run-20221117_122736-xl1cpj3c</code>"
      ],
      "text/plain": [
       "<IPython.core.display.HTML object>"
      ]
     },
     "metadata": {},
     "output_type": "display_data"
    },
    {
     "data": {
      "text/html": [
       "Syncing run <strong><a href=\"https://wandb.ai/arena-ldn/shk-transformer/runs/xl1cpj3c\" target=\"_blank\">dry-snowflake-3</a></strong> to <a href=\"https://wandb.ai/arena-ldn/shk-transformer\" target=\"_blank\">Weights & Biases</a> (<a href=\"https://wandb.me/run\" target=\"_blank\">docs</a>)<br/>"
      ],
      "text/plain": [
       "<IPython.core.display.HTML object>"
      ]
     },
     "metadata": {},
     "output_type": "display_data"
    },
    {
     "name": "stderr",
     "output_type": "stream",
     "text": [
      "/opt/conda/envs/shk/lib/python3.9/site-packages/pytorch_lightning/trainer/connectors/accelerator_connector.py:704: UserWarning: You passed `Trainer(accelerator='cpu', precision=16)` but native AMP is not supported on CPU. Using `precision='bf16'` instead.\n",
      "  rank_zero_warn(\n",
      "Using bfloat16 Automatic Mixed Precision (AMP)\n",
      "GPU available: False, used: False\n",
      "TPU available: False, using: 0 TPU cores\n",
      "IPU available: False, using: 0 IPUs\n",
      "HPU available: False, using: 0 HPUs\n",
      "/opt/conda/envs/shk/lib/python3.9/site-packages/pytorch_lightning/trainer/configuration_validator.py:108: PossibleUserWarning: You defined a `validation_step` but have no `val_dataloader`. Skipping val loop.\n",
      "  rank_zero_warn(\n",
      "\n",
      "  | Name      | Type                   | Params\n",
      "-----------------------------------------------------\n",
      "0 | model     | DecoderOnlyTransformer | 18.3 M\n",
      "1 | criterion | CrossEntropyLoss       | 0     \n",
      "-----------------------------------------------------\n",
      "18.3 M    Trainable params\n",
      "0         Non-trainable params\n",
      "18.3 M    Total params\n",
      "73.283    Total estimated model params size (MB)\n",
      "/opt/conda/envs/shk/lib/python3.9/site-packages/pytorch_lightning/trainer/connectors/data_connector.py:224: PossibleUserWarning: The dataloader, train_dataloader, does not have many workers which may be a bottleneck. Consider increasing the value of the `num_workers` argument` (try 4 which is the number of cpus on this machine) in the `DataLoader` init to improve performance.\n",
      "  rank_zero_warn(\n"
     ]
    },
    {
     "data": {
      "application/vnd.jupyter.widget-view+json": {
       "model_id": "537ba3ae95e445faa2d03911ebdbbc93",
       "version_major": 2,
       "version_minor": 0
      },
      "text/plain": [
       "Training: 0it [00:00, ?it/s]"
      ]
     },
     "metadata": {},
     "output_type": "display_data"
    },
    {
     "name": "stderr",
     "output_type": "stream",
     "text": [
      "`Trainer.fit` stopped: `max_epochs=1` reached.\n"
     ]
    }
   ],
   "source": [
    "MODEL_FILENAME = \"./w1d3_transformer_shakespeare.pt\"\n",
    "\n",
    "# Comment out if not using wandb\n",
    "wandb_logger = WandbLogger(\n",
    "    project=\"shk-transformer\", \n",
    "    save_dir=\"training/logs/\",\n",
    "    log_model=True)\n",
    "#wandb_logger.watch(pl_model, log=\"all\")\n",
    "\n",
    "trainer = pl.Trainer(\n",
    "    max_epochs=1,\n",
    "    precision=16,\n",
    "    accelerator='cpu', \n",
    "    devices=1,\n",
    "    logger=wandb_logger, # Comment out if not using wandb\n",
    "    default_root_dir=\"training/checkpoints/\",\n",
    "    callbacks=[TQDMProgressBar(refresh_rate=10)])\n",
    "trainer.fit(pl_model, train_dataloaders=trainloader)\n",
    "\n",
    "#print(f\"Saving model to: {MODEL_FILENAME}\")"
   ]
  },
  {
   "cell_type": "code",
   "execution_count": 17,
   "metadata": {},
   "outputs": [
    {
     "name": "stdout",
     "output_type": "stream",
     "text": [
      "turn down for what the world that should not that which that it that which it the he day,\n",
      "  In that which it, nor that it love that your sweet love?\n",
      "Why with more love for me, let thy love’s love shall be,\n",
      "  To thee in my love that me thou art.\n",
      "When\n"
     ]
    }
   ],
   "source": [
    "import sample_methods as s\n",
    "\n",
    "model = t.load(MODEL_FILENAME, map_location=t.device('cpu'))\n",
    "model.eval()\n",
    "\n",
    "initial_text = \"turn down for what\"\n",
    "\n",
    "text_output = s.sample_tokens(model, tokenizer, initial_text, max_tokens_generated=100, temperature=1.0, top_k=10)\n",
    "\n",
    "print(text_output)\n",
    "\n",
    "# turn down for what you do you think,\n",
    "# That take the last, of many, which is so much I\n",
    "# As this blows along than my life thou say’st, which makes thy hand,\n",
    "# Thou wilt be given, or more\n",
    "# Entitled in thy great world’s fresh blood will,\n",
    "# To answer th’ alluring countenance, beauty"
   ]
  },
  {
   "cell_type": "code",
   "execution_count": null,
   "metadata": {},
   "outputs": [],
   "source": []
  }
 ],
 "metadata": {
  "kernelspec": {
   "display_name": "Python 3.9.15 ('shk')",
   "language": "python",
   "name": "python3"
  },
  "language_info": {
   "codemirror_mode": {
    "name": "ipython",
    "version": 3
   },
   "file_extension": ".py",
   "mimetype": "text/x-python",
   "name": "python",
   "nbconvert_exporter": "python",
   "pygments_lexer": "ipython3",
   "version": "3.9.15"
  },
  "orig_nbformat": 4,
  "vscode": {
   "interpreter": {
    "hash": "61cf45ea2041b4bb939fe103c85ae429341fda0fe9513e7286bdc8966ffebae2"
   }
  }
 },
 "nbformat": 4,
 "nbformat_minor": 2
}
