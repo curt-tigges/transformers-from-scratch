{
 "cells": [
  {
   "cell_type": "code",
   "execution_count": 1,
   "metadata": {},
   "outputs": [],
   "source": [
    "import torch\n",
    "import torch.nn as nn\n",
    "import copy"
   ]
  },
  {
   "cell_type": "code",
   "execution_count": null,
   "metadata": {},
   "outputs": [],
   "source": [
    "class MultiHeadAttention(nn.Module):\n",
    "    def __init__(self, heads, embed_dim, query_size):\n",
    "        super().__init__()\n",
    "        self.heads = heads\n",
    "        self.query_size = embed_dim / heads\n",
    "        self.lin = nn.Linear(embed_dim, embed_dim)\n",
    "        self.qkv = nn.ModuleList([copy.deepcopy(self.lin) for _ in range(4)])\n",
    "\n",
    "    def forward(self, query, key, value): # each is of shape [BATCH_SIZE x SEQ_LEN x EMB_DIM]\n",
    "        #x = torch.cat([x, x, x], dim=-1) # x reshaped to [BATCH_SIZE x SEQ_LEN x 3 * EMB_DIM]\n",
    "        n_batches = query.size(0)\n",
    "\n",
    "        query, key, value = [\n",
    "            qkv(x).view(n_batches, -2, self.heads, self.query_size).permute(0, 2, 1, 3) \n",
    "            for qkv, x in zip(self.qkv, (query, key, value))\n",
    "            ]\n",
    "        # x projected to [BATCH_SIZE x SEQ_LEN x HEADS * QUERY_SIZE], then\n",
    "        # reshaped to [BATCH_SIZE x SEQ_LEN x HEADS x QUERY_SIZE], and finally\n",
    "        # permuted to [BATCH_SIZE x HEADS x SEQ_LEN x QUERY_SIZE]\n",
    "\n",
    "\n",
    "\n",
    "\n",
    "\n",
    "        #print(x.shape)\n",
    "        q = x[:,:,:self.hidden_dim]\n",
    "        #print(q.shape)\n",
    "        k = x[:,:,self.hidden_dim:(self.hidden_dim * 2)]\n",
    "        #print(k.shape)\n",
    "        v = x[:,:,(self.hidden_dim * 2):]\n",
    "        #print(v.shape)\n",
    "        score = q @ torch.transpose(k,-2,-1)\n",
    "        #print(score)\n",
    "        score /= 8\n",
    "        score = torch.softmax(score, dim=-1)\n",
    "        #print(score)\n",
    "        z = torch.matmul(score, v)\n",
    "        #print(z.shape)\n",
    "        return z, k, v"
   ]
  },
  {
   "cell_type": "code",
   "execution_count": 2,
   "metadata": {},
   "outputs": [],
   "source": [
    "class AttentionHead(nn.Module):\n",
    "    def __init__(self, embed_dim, hidden_dim):\n",
    "        super().__init__()\n",
    "        self.hidden_dim = hidden_dim\n",
    "        self.qkv = nn.Linear(embed_dim * 3, hidden_dim * 3)\n",
    "\n",
    "    def forward(self, x:torch.tensor) -> torch.tensor:\n",
    "        x = torch.cat([x, x, x], dim=-1)\n",
    "        #print(x.shape)\n",
    "        x = self.qkv(x)\n",
    "        #print(x.shape)\n",
    "        q = x[:,:,:self.hidden_dim]\n",
    "        #print(q.shape)\n",
    "        k = x[:,:,self.hidden_dim:(self.hidden_dim * 2)]\n",
    "        #print(k.shape)\n",
    "        v = x[:,:,(self.hidden_dim * 2):]\n",
    "        #print(v.shape)\n",
    "        score = q @ torch.transpose(k,-2,-1)\n",
    "        #print(score)\n",
    "        score /= 8\n",
    "        score = torch.softmax(score, dim=-1)\n",
    "        #print(score)\n",
    "        z = torch.matmul(score, v)\n",
    "        #print(z.shape)\n",
    "        return z, k, v"
   ]
  },
  {
   "cell_type": "code",
   "execution_count": 102,
   "metadata": {},
   "outputs": [],
   "source": [
    "class MultiHeadAttention(nn.Module):\n",
    "    def __init__(self, heads, embed_dim, hidden_dim):\n",
    "        super().__init__()\n",
    "        self.heads = [AttentionHead(embed_dim, hidden_dim) for h in range(heads)]\n",
    "        self.linear_combine = nn.Linear(heads * hidden_dim, embed_dim)\n",
    "\n",
    "    def forward(self, x):\n",
    "        z_cat = torch.cat([h(x) for h in self.heads], dim=-1)\n",
    "        z = self.linear_combine(z_cat)\n",
    "        return z"
   ]
  },
  {
   "cell_type": "code",
   "execution_count": 121,
   "metadata": {},
   "outputs": [],
   "source": [
    "class TransformerEncoderLayer(nn.Module):\n",
    "    def __init__(self):\n",
    "        super().__init__()\n",
    "        self.self_attn = MultiHeadAttention(8, 512, 64)\n",
    "        self.fc1 = nn.Linear(512, 512)\n",
    "        self.lnorm1 = nn.LayerNorm(512)\n",
    "        self.lnorm2 = nn.LayerNorm(512)\n",
    "\n",
    "    def forward(self, x):\n",
    "        out = self.self_attn(x)\n",
    "        norm_out = self.lnorm1(out + x)\n",
    "        out = self.fc1(norm_out)\n",
    "        out = self.lnorm2(out + norm_out)\n",
    "        return out"
   ]
  },
  {
   "cell_type": "code",
   "execution_count": null,
   "metadata": {},
   "outputs": [],
   "source": [
    "class TransformerDecoderLayer(nn.Module):\n",
    "    def __init__(self):\n",
    "        super().__init__()\n",
    "        self.self_attn = MultiHeadAttention(8, 512, 64)\n",
    "        self.enc_dec_attn = MultiHeadAttention(8, 512, 64)\n",
    "        self.fc1 = nn.Linear(512, 512)\n",
    "        self.lnorm1 = nn.LayerNorm(512)\n",
    "        self.lnorm2 = nn.LayerNorm(512)\n",
    "        self.lnorm3 = nn.LayerNorm(512)\n",
    "\n",
    "    def forward(self, x, k, v):\n",
    "        out = self.self_attn(x)\n",
    "        norm_out = self.lnorm1(out + x)\n",
    "\n",
    "        out = self.enc_dec_attn(norm_out, k, v)\n",
    "        norm_out = self.lnorm2(out + norm_out)\n",
    "        \n",
    "        out = self.fc1(norm_out)\n",
    "        out = self.lnorm3(out + norm_out)\n",
    "        return out"
   ]
  },
  {
   "cell_type": "code",
   "execution_count": 122,
   "metadata": {},
   "outputs": [],
   "source": [
    "class Transformer(nn.Module):\n",
    "    def __init__(self):\n",
    "        super().__init__()\n",
    "        # produces matrix of [BATCH_SIZE x SEQ_LEN x EMB_SIZE]\n",
    "        self.emb = nn.Embedding(10, 512)\n",
    "        self.enc = TransformerEncoderLayer()\n",
    "        self.dec = TransformerDecoderLayer()\n",
    "    \n",
    "    def forward(self, x):\n",
    "        out = self.emb(x)\n",
    "        out, k, v = self.enc(out)\n",
    "        out = self.dec(out, k, v)\n",
    "        return out"
   ]
  },
  {
   "cell_type": "code",
   "execution_count": 123,
   "metadata": {},
   "outputs": [
    {
     "data": {
      "text/plain": [
       "torch.Size([2, 4, 512])"
      ]
     },
     "execution_count": 123,
     "metadata": {},
     "output_type": "execute_result"
    }
   ],
   "source": [
    "inp = torch.LongTensor([[1,2,3,4],[3,2,5,1]])\n",
    "trnfrmr = Transformer()\n",
    "out = trnfrmr(inp)\n",
    "out.shape"
   ]
  },
  {
   "cell_type": "code",
   "execution_count": null,
   "metadata": {},
   "outputs": [],
   "source": []
  }
 ],
 "metadata": {
  "kernelspec": {
   "display_name": "Python 3.7.10 ('pytorch-dl')",
   "language": "python",
   "name": "python3"
  },
  "language_info": {
   "codemirror_mode": {
    "name": "ipython",
    "version": 3
   },
   "file_extension": ".py",
   "mimetype": "text/x-python",
   "name": "python",
   "nbconvert_exporter": "python",
   "pygments_lexer": "ipython3",
   "version": "3.7.10"
  },
  "orig_nbformat": 4,
  "vscode": {
   "interpreter": {
    "hash": "af51f29a878ae3a8f8e9f6c4ebe8e1dfd1996d87171925dc7d5b6a703abf9b9c"
   }
  }
 },
 "nbformat": 4,
 "nbformat_minor": 2
}
